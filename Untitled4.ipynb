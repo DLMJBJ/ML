{
 "cells": [
  {
   "cell_type": "code",
   "execution_count": 8,
   "id": "c40fa6a6",
   "metadata": {},
   "outputs": [
    {
     "ename": "ModuleNotFoundError",
     "evalue": "No module named 'cv2'",
     "output_type": "error",
     "traceback": [
      "\u001b[1;31m---------------------------------------------------------------------------\u001b[0m",
      "\u001b[1;31mModuleNotFoundError\u001b[0m                       Traceback (most recent call last)",
      "Cell \u001b[1;32mIn[8], line 1\u001b[0m\n\u001b[1;32m----> 1\u001b[0m \u001b[38;5;28;01mimport\u001b[39;00m \u001b[38;5;21;01mcv2\u001b[39;00m\n\u001b[0;32m      3\u001b[0m \u001b[38;5;28;01mdef\u001b[39;00m \u001b[38;5;21mimage_RSW\u001b[39m():\n\u001b[0;32m      4\u001b[0m     fName \u001b[38;5;241m=\u001b[39m \u001b[38;5;124m'\u001b[39m\u001b[38;5;124mC:\u001b[39m\u001b[38;5;130;01m\\\\\u001b[39;00m\u001b[38;5;124mUsers\u001b[39m\u001b[38;5;130;01m\\\\\u001b[39;00m\u001b[38;5;124mJangBeomJun\u001b[39m\u001b[38;5;130;01m\\\\\u001b[39;00m\u001b[38;5;124mDownloads\u001b[39m\u001b[38;5;130;01m\\\\\u001b[39;00m\u001b[38;5;124mphoto-1595126739121-68ab4225f9cf.jpg\u001b[39m\u001b[38;5;124m'\u001b[39m\n",
      "\u001b[1;31mModuleNotFoundError\u001b[0m: No module named 'cv2'"
     ]
    }
   ],
   "source": [
    "import cv2\n",
    "\n",
    "def image_RSW():\n",
    "    fName = 'C:\\\\Users\\\\JangBeomJun\\\\Downloads\\\\photo-1595126739121-68ab4225f9cf.jpg'\n",
    "    \n",
    "    orginal = cv2.imread(fName,cv2.IMREAD_COLOR)\n",
    "    cv2.imshow('JetsonNano_Original', orginal)\n",
    "    \n",
    "    gray = cv2.imread(fname, cv2.IMREAD_GRAYSCALE)\n",
    "    cv2.imshow('JetsonNano_Gray', gray)\n",
    "    \n",
    "    unChange = cv2.imread(fname, cv2.IMREAD_UNCHANGED)\n",
    "    cv2.imshow('JetsonNano_Unchanged', unChange)\n",
    "    \n",
    "    cv2.imwrite('GRAYIMAGE.png',gray);\n",
    "    \n",
    "    cv2.waitKey(0)\n",
    "    cv2.destroyAllWindows()"
   ]
  },
  {
   "cell_type": "code",
   "execution_count": 6,
   "id": "2a93924f",
   "metadata": {},
   "outputs": [
    {
     "ename": "ModuleNotFoundError",
     "evalue": "No module named 'Part2_images'",
     "output_type": "error",
     "traceback": [
      "\u001b[1;31m---------------------------------------------------------------------------\u001b[0m",
      "\u001b[1;31mModuleNotFoundError\u001b[0m                       Traceback (most recent call last)",
      "Cell \u001b[1;32mIn[6], line 1\u001b[0m\n\u001b[1;32m----> 1\u001b[0m \u001b[38;5;28;01mimport\u001b[39;00m \u001b[38;5;21;01mPart2_images\u001b[39;00m \u001b[38;5;28;01mas\u001b[39;00m \u001b[38;5;21;01mp2\u001b[39;00m\n\u001b[0;32m      3\u001b[0m p2\u001b[38;5;241m.\u001b[39mimage_RSW()\n",
      "\u001b[1;31mModuleNotFoundError\u001b[0m: No module named 'Part2_images'"
     ]
    }
   ],
   "source": [
    "import Part2_images as p2\n",
    "\n",
    "p2.image_RSW()"
   ]
  },
  {
   "cell_type": "code",
   "execution_count": null,
   "id": "c8052f88",
   "metadata": {},
   "outputs": [],
   "source": []
  }
 ],
 "metadata": {
  "kernelspec": {
   "display_name": "Python 3 (ipykernel)",
   "language": "python",
   "name": "python3"
  },
  "language_info": {
   "codemirror_mode": {
    "name": "ipython",
    "version": 3
   },
   "file_extension": ".py",
   "mimetype": "text/x-python",
   "name": "python",
   "nbconvert_exporter": "python",
   "pygments_lexer": "ipython3",
   "version": "3.11.4"
  }
 },
 "nbformat": 4,
 "nbformat_minor": 5
}
