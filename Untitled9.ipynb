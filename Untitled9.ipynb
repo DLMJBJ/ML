{
 "cells": [
  {
   "cell_type": "code",
   "execution_count": null,
   "id": "1ce73705",
   "metadata": {},
   "outputs": [],
   "source": [
    "import pandas as pd\n",
    "import numpy as np\n",
    "\n",
    "Service_X_test = pd.read_csv('C://Users//JangBeomJun//Downloads//Service_X_test.csv')\n",
    "Service_X_train = pd.read_csv('C://Users//JangBeomJun//Downloads//Service_X_train.csv')\n",
    "Service_y_train = pd.read_csv('C://Users//JangBeomJun//Downloads//Service_y_train.csv')"
   ]
  },
  {
   "cell_type": "code",
   "execution_count": null,
   "id": "ebe35d21",
   "metadata": {},
   "outputs": [],
   "source": [
    "#train set으로 사용할 데이터 중 아닌것\n",
    "drop_col = ['CustomerId','Surname']\n",
    "\n",
    "#출력할때 사용할것\n",
    "tid = Service_X_test['CustomerId']\n",
    "\n",
    "#y의 train set\n",
    "y = Service_y_train['Exited']"
   ]
  },
  {
   "cell_type": "code",
   "execution_count": null,
   "id": "dc00b028",
   "metadata": {},
   "outputs": [],
   "source": [
    "train_x_drop = Service_X_train.drop(columns = drop_col)\n",
    "test_x_drop = Service_X_test.drop(columns = drop_col)"
   ]
  },
  {
   "cell_type": "code",
   "execution_count": null,
   "id": "caaca770",
   "metadata": {},
   "outputs": [],
   "source": [
    "train_x_dum = pd.get_dummies(train_x_drop)\n",
    "test_x_dum = pd.get_dummies(test_x_drop)"
   ]
  },
  {
   "cell_type": "code",
   "execution_count": null,
   "id": "c2ad1fc8",
   "metadata": {},
   "outputs": [],
   "source": [
    "test_x_dum = test_x_dum[train_x_dum.columns]"
   ]
  },
  {
   "cell_type": "code",
   "execution_count": null,
   "id": "64f46142",
   "metadata": {},
   "outputs": [],
   "source": [
    "from sklearn.model_selection import train_test_split\n",
    "x_train,x_valid,y_train,y_valid = train_test_split(train_x_dum,y,test_size = 0.3,random_state = 6,stratify = y)"
   ]
  },
  {
   "cell_type": "code",
   "execution_count": null,
   "id": "ffdbe4e2",
   "metadata": {},
   "outputs": [],
   "source": [
    "from sklearn.ensemble import RandomForestClassifier\n",
    "rfc = RandomForestClassifier(random_state=10)\n",
    "rfc.fit(x_train,y_train)\n",
    "\n",
    "valid_pred =  rfc.predict(x_valid)\n",
    "valid_pred_proba = rfc.predict_proba(x_valid)[:,1] # 내일 김예림 보면 이거 무슨의미인지 물어보기\n",
    "\n"
   ]
  },
  {
   "cell_type": "code",
   "execution_count": null,
   "id": "e48aa701",
   "metadata": {},
   "outputs": [],
   "source": [
    "from sklearn.metrics import accuracy_score,recall_score,precision_score,f1_score,roc_auc_score"
   ]
  },
  {
   "cell_type": "code",
   "execution_count": null,
   "id": "91611f4b",
   "metadata": {},
   "outputs": [],
   "source": [
    "print('valid accuracy : \\n',accuracy_score(y_valid,valid_pred))\n",
    "print('recall_score : \\n',recall_score(y_valid,valid_pred))\n",
    "print('precision_score : \\n',precision_score(y_valid,valid_pred))\n",
    "print('f1_score : \\n',f1_score(y_valid,valid_pred))\n",
    "print('roc_auc_score : \\n',roc_auc_score(y_valid,valid_pred))"
   ]
  },
  {
   "cell_type": "code",
   "execution_count": null,
   "id": "94d09505",
   "metadata": {},
   "outputs": [],
   "source": [
    "test_pred = rfc.predict(test_x_dum)\n",
    "result = pd.DataFrame({'CustomerId' : tid, 'Exited' : test_pred})\n",
    "result"
   ]
  },
  {
   "cell_type": "code",
   "execution_count": null,
   "id": "413b6e8e",
   "metadata": {},
   "outputs": [],
   "source": []
  }
 ],
 "metadata": {
  "kernelspec": {
   "display_name": "Python 3 (ipykernel)",
   "language": "python",
   "name": "python3"
  },
  "language_info": {
   "codemirror_mode": {
    "name": "ipython",
    "version": 3
   },
   "file_extension": ".py",
   "mimetype": "text/x-python",
   "name": "python",
   "nbconvert_exporter": "python",
   "pygments_lexer": "ipython3",
   "version": "3.11.4"
  }
 },
 "nbformat": 4,
 "nbformat_minor": 5
}
